{
 "cells": [
  {
   "cell_type": "markdown",
   "id": "06d0df31",
   "metadata": {},
   "source": [
    "#### 1. The \"Pre-lecture\" video (above) mentioned the \"standard error of the mean\" as being the \"standard deviation\" of the distribution bootstrapped means.  What is the difference between the \"standard error of the mean\" and the \"standard deviation\" of the original data? What distinct ideas do each of these capture? Explain this concisely in your own words.<br>"
   ]
  },
  {
   "cell_type": "markdown",
   "id": "af4cd3d0",
   "metadata": {},
   "source": [
    "There are two key differences between standard error of the mean and standard deviation which are scope and influence of sample size. Standard deviation is about the distribution of individual data points in the data set, while standard error of the mean is about the distribution of the sample mean relative to the population mean. Standard deviation depends on sample size, but standard error of the mean is independence on sample size. The idea of standard deviation is how much is the sample statistic going to change and standard error of the mean focuses on how well the sample mean estimates the true population mean."
   ]
  },
  {
   "cell_type": "markdown",
   "id": "3167c3a2",
   "metadata": {},
   "source": [
    "https://chatgpt.com/share/66fde277-0508-8000-a9b2-13586b8adc16"
   ]
  },
  {
   "cell_type": "markdown",
   "id": "7bf0abf8",
   "metadata": {},
   "source": [
    "### 2. The \"Pre-lecture\" video (above) suggested that the \"standard error of the mean\" could be used to create a confidence interval, but didn't describe exactly how to do this.  How can we use the \"standard error of the mean\" to create a 95% confidence interval which \"covers 95% of the bootstrapped sample means\"? Explain this concisely in your own words.<br>"
   ]
  },
  {
   "cell_type": "markdown",
   "id": "ddb88b3f",
   "metadata": {},
   "source": [
    "There are seven steps to calculate 95% CI using standard error of the mean. In step one, we need to calculate the sample mean which is the average of the sample data point. In step two, we need to use the formula for sample standard deviation to calculate the standard deviation of the sample. In step three, we need to determine the sample size. In step four, we need to use SEM formula to calculate the standard error of the mean. In step five, we need to find critical value. For 95% confidence intervals, the critical value is about 1.96. In step six, we need to use formula to calculate the margin of error. In step seven, we need to construct the confidence interval. The confidence interval gives the lower and upper bound of the 95% CI."
   ]
  },
  {
   "cell_type": "markdown",
   "id": "fb10d822",
   "metadata": {},
   "source": [
    "### 3. Creating the \"sample mean plus and minus about 2 times the standard error\" confidence interval addressed in the previous problem should indeed cover approximately 95% of the bootstrapped sample means. Alternatively, how do we create a 95% bootstrapped confidence interval using the bootstrapped means (without using their standard deviation to estimate the standard error of the mean)? Explain this concisely in your own words.<br>"
   ]
  },
  {
   "cell_type": "markdown",
   "id": "ac7e376e",
   "metadata": {},
   "source": [
    "To calculate a 95% CI for the mean using bootstrapping, we need to start with dataset and determine the number of bootstrap samples. The replacement method is used to resample the data and calculate the mean of each sample. np.quantile is to find the quantiles of 2.5% and 97.5% of the mean. It can provide the lower and the upper bounds of the CI. This method is useful for small sample sizes."
   ]
  },
  {
   "cell_type": "markdown",
   "id": "cd83cf72",
   "metadata": {},
   "source": [
    "### 4. The \"Pre-lecture\" video (above) mentioned that bootstrap confidence intervals could apply to other statistics of the sample, such as the \"median\". Work with a ChatBot to create code to produce a 95% bootstrap confidence interval for a population mean based on a sample that you have and comment the code to demonstrate how the code can be changed to produce a 95% bootstrap confidence interval for different population parameter (other than the population mean, such as the population median).<br>"
   ]
  },
  {
   "cell_type": "code",
   "execution_count": 14,
   "id": "37628e9a",
   "metadata": {},
   "outputs": [
    {
     "name": "stdout",
     "output_type": "stream",
     "text": [
      "95% Bootstrap Confidence Interval: [12.0, 14.1]\n"
     ]
    }
   ],
   "source": [
    "import numpy as np\n",
    "import pandas as pd\n",
    "\n",
    "# Example DataFrame with sample data\n",
    "data = {'points': [12, 15, 14, 10, 13, 11, 16, 14, 12, 13]}\n",
    "df = pd.DataFrame(data)\n",
    "\n",
    "# Function to calculate bootstrap confidence interval\n",
    "def bootstrap_confidence_interval(data, num_bootstrap_samples=10000, confidence_level=0.95):\n",
    "    # Generate bootstrap samples\n",
    "    bootstrap_samples = np.random.choice(data, size=(num_bootstrap_samples, len(data)), replace=True)\n",
    "    \n",
    "    # Calculate the means of each bootstrap sample\n",
    "    bootstrap_means = np.mean(bootstrap_samples, axis=1)\n",
    "    \n",
    "    # Calculate the confidence interval bounds\n",
    "    lower_bound = np.percentile(bootstrap_means, (1 - confidence_level) / 2 * 100)\n",
    "    upper_bound = np.percentile(bootstrap_means, (1 + confidence_level) / 2 * 100)\n",
    "    \n",
    "    return lower_bound, upper_bound\n",
    "\n",
    "# Calculate the 95% confidence interval using the bootstrap function\n",
    "lower, upper = bootstrap_confidence_interval(df['points'])\n",
    "print(f\"95% Bootstrap Confidence Interval: [{lower}, {upper}]\")"
   ]
  },
  {
   "cell_type": "code",
   "execution_count": null,
   "id": "beecbbc3",
   "metadata": {},
   "outputs": [],
   "source": [
    "N = 10000\n",
    "bootstrap_means = np.zeros(N)\n",
    "\n",
    "for i in range(N):\n",
    "    bootstrap_sample = np.random.choice(df['points'], size=len(df['points']), replace=True)\n",
    "    bootstrap_means[i] = np.mean(bootstrap_sample)"
   ]
  },
  {
   "cell_type": "markdown",
   "id": "262a391e",
   "metadata": {},
   "source": [
    "### 5. The previous question addresses making a confidence interval for a population parameter based on a sample statistic. Why do we need to distinguish between the role of the popualation parameter and the sample sample statistic when it comes to confidence intervals? Explain this concisely in your own words.<br>"
   ]
  },
  {
   "cell_type": "markdown",
   "id": "70746203",
   "metadata": {},
   "source": [
    "When you construct a confidence interval, you are estimating population parameters based on sample statistics. A confidence interval provides a plausible range of values for an unknown population parameter, usually expressed as a certain degree of confidence."
   ]
  },
  {
   "cell_type": "markdown",
   "id": "5b42974e",
   "metadata": {},
   "source": [
    "### 6. Provide written answers explaining the answers to the following questions in an informal manner of a conversation with a friend with little experience with statistics. <br>"
   ]
  },
  {
   "cell_type": "markdown",
   "id": "8c28bdcf",
   "metadata": {},
   "source": [
    "The process involves taking a number of bootstrap samples, each the same size as the original dataset, and calculating the statistics of interest for each sample. This creates a distribution of statistics from which we can derive estimates of population parameters, standard errors, and confidence intervals without making assumptions about the underlying population. Bootstrap is especially useful for small or non-normal data sets."
   ]
  },
  {
   "cell_type": "markdown",
   "id": "226f2059",
   "metadata": {},
   "source": [
    "The main purpose of Bootstrapping is to simulate the generation of multiple samples without knowing it through multiple random samples with retractions. These samples are used to estimate the parameter distribution of the population."
   ]
  },
  {
   "cell_type": "markdown",
   "id": "e720c8fe",
   "metadata": {},
   "source": [
    "When the value of the hypothesis is not in the interval, the hypothesis is not valid. If this value is in this interval, it's a reasonable hypothesis."
   ]
  },
  {
   "cell_type": "markdown",
   "id": "f52fa7b6",
   "metadata": {},
   "source": [
    "### 8. Complete the following assignment. "
   ]
  },
  {
   "cell_type": "code",
   "execution_count": 19,
   "id": "308dab1e",
   "metadata": {},
   "outputs": [
    {
     "name": "stdout",
     "output_type": "stream",
     "text": [
      "   PatientID  Age Gender  InitialHealthScore  FinalHealthScore  d\n",
      "0          1   45      M                  84                86  2\n",
      "1          2   34      F                  78                86  8\n",
      "2          3   29      M                  83                80 -3\n",
      "3          4   52      F                  81                86  5\n",
      "4          5   37      M                  81                84  3\n",
      "5          6   41      F                  80                86  6\n",
      "6          7   33      M                  79                86  7\n",
      "7          8   48      F                  85                82 -3\n",
      "8          9   26      M                  76                83  7\n",
      "9         10   39      F                  83                84  1\n"
     ]
    }
   ],
   "source": [
    "import pandas as pd\n",
    "\n",
    "# Creating a dictionary with the given data\n",
    "data = {\n",
    "    'PatientID': [1, 2, 3, 4, 5, 6, 7, 8, 9, 10],\n",
    "    'Age': [45, 34, 29, 52, 37, 41, 33, 48, 26, 39],\n",
    "    'Gender': ['M', 'F', 'M', 'F', 'M', 'F', 'M', 'F', 'M', 'F'],\n",
    "    'InitialHealthScore': [84, 78, 83, 81, 81, 80, 79, 85, 76, 83],\n",
    "    'FinalHealthScore': [86, 86, 80, 86, 84, 86, 86, 82, 83, 84]\n",
    "}\n",
    "\n",
    "# Creating the DataFrame\n",
    "df = pd.DataFrame(data)\n",
    "\n",
    "df[\"d\"]=df.FinalHealthScore-df.InitialHealthScore\n",
    "\n",
    "# Display the DataFrame\n",
    "print(df)"
   ]
  },
  {
   "cell_type": "code",
   "execution_count": null,
   "id": "cb58bd0b",
   "metadata": {},
   "outputs": [],
   "source": [
    "N = 10000\n",
    "bootstrap_means = np.zeros(N)\n",
    "\n",
    "for i in range(N):\n",
    "    bootstrap_sample = np.random.choice(df['points'], size=len(df['points']), replace=True)\n",
    "    bootstrap_means[i] = np.mean(bootstrap_sample)\n",
    "px.histogram(pd.DataFrame({\"10\":boot_mean},x=\"x\")"
   ]
  },
  {
   "cell_type": "code",
   "execution_count": null,
   "id": "c48178ab",
   "metadata": {},
   "outputs": [],
   "source": [
    "np.quantile(boot.mean,[0.025,0.975])"
   ]
  },
  {
   "cell_type": "markdown",
   "id": "722f1203",
   "metadata": {},
   "source": [
    "Because the null hypothesis is in the 0reject interval, the drug is useful."
   ]
  }
 ],
 "metadata": {
  "kernelspec": {
   "display_name": "Python 3 (ipykernel)",
   "language": "python",
   "name": "python3"
  },
  "language_info": {
   "codemirror_mode": {
    "name": "ipython",
    "version": 3
   },
   "file_extension": ".py",
   "mimetype": "text/x-python",
   "name": "python",
   "nbconvert_exporter": "python",
   "pygments_lexer": "ipython3",
   "version": "3.11.6"
  }
 },
 "nbformat": 4,
 "nbformat_minor": 5
}
